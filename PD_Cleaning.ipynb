{
 "cells": [
  {
   "cell_type": "markdown",
   "id": "2f3ff9ee",
   "metadata": {},
   "source": [
    "**Raw Data Cleaning**"
   ]
  },
  {
   "cell_type": "code",
   "execution_count": 1,
   "id": "07c1ce4c",
   "metadata": {},
   "outputs": [],
   "source": [
    "import pandas as pd\n",
    "import os "
   ]
  },
  {
   "cell_type": "markdown",
   "id": "0e1c456c",
   "metadata": {},
   "source": [
    "Adjust the file path to specific file location when necessary"
   ]
  },
  {
   "cell_type": "code",
   "execution_count": 2,
   "id": "6302dd73-9752-4710-8cea-8340d6c4e027",
   "metadata": {},
   "outputs": [
    {
     "data": {
      "application/vnd.microsoft.datawrangler.viewer.v0+json": {
       "columns": [
        {
         "name": "index",
         "rawType": "int64",
         "type": "integer"
        },
        {
         "name": "Unnamed: 0",
         "rawType": "object",
         "type": "string"
        },
        {
         "name": "A201-BCP001-BIO0001-TT00026.BIO-BIO-TEM-CTR",
         "rawType": "object",
         "type": "string"
        },
        {
         "name": "A201-BCP001-BIO0001-AIT0024.BIO-DOX-DOX-CTR",
         "rawType": "object",
         "type": "string"
        },
        {
         "name": "A201-BCP001-BIO0001-AIT0022.BIO-PH1-PHZ-CTR",
         "rawType": "object",
         "type": "string"
        },
        {
         "name": "Unnamed: 4",
         "rawType": "float64",
         "type": "float"
        }
       ],
       "ref": "915cbb7c-3bb0-40b1-a33c-1bae96434893",
       "rows": [
        [
         "0",
         "Time",
         "Value | First",
         "Value | First",
         "Value | First",
         null
        ],
        [
         "1",
         "6/17/2025 11:45:00 PM",
         "36.93",
         "61.39",
         "6.86",
         null
        ],
        [
         "2",
         "6/18/2025 12:00:00 AM",
         "36.82",
         "58.43",
         "6.87",
         null
        ],
        [
         "3",
         "6/18/2025 12:15:00 AM",
         "36.95",
         "62.15",
         "6.87",
         null
        ],
        [
         "4",
         "6/18/2025 12:30:00 AM",
         "36.94",
         "63.31",
         "6.89",
         null
        ]
       ],
       "shape": {
        "columns": 5,
        "rows": 5
       }
      },
      "text/html": [
       "<div>\n",
       "<style scoped>\n",
       "    .dataframe tbody tr th:only-of-type {\n",
       "        vertical-align: middle;\n",
       "    }\n",
       "\n",
       "    .dataframe tbody tr th {\n",
       "        vertical-align: top;\n",
       "    }\n",
       "\n",
       "    .dataframe thead th {\n",
       "        text-align: right;\n",
       "    }\n",
       "</style>\n",
       "<table border=\"1\" class=\"dataframe\">\n",
       "  <thead>\n",
       "    <tr style=\"text-align: right;\">\n",
       "      <th></th>\n",
       "      <th>Unnamed: 0</th>\n",
       "      <th>A201-BCP001-BIO0001-TT00026.BIO-BIO-TEM-CTR</th>\n",
       "      <th>A201-BCP001-BIO0001-AIT0024.BIO-DOX-DOX-CTR</th>\n",
       "      <th>A201-BCP001-BIO0001-AIT0022.BIO-PH1-PHZ-CTR</th>\n",
       "      <th>Unnamed: 4</th>\n",
       "    </tr>\n",
       "  </thead>\n",
       "  <tbody>\n",
       "    <tr>\n",
       "      <th>0</th>\n",
       "      <td>Time</td>\n",
       "      <td>Value | First</td>\n",
       "      <td>Value | First</td>\n",
       "      <td>Value | First</td>\n",
       "      <td>NaN</td>\n",
       "    </tr>\n",
       "    <tr>\n",
       "      <th>1</th>\n",
       "      <td>6/17/2025 11:45:00 PM</td>\n",
       "      <td>36.93</td>\n",
       "      <td>61.39</td>\n",
       "      <td>6.86</td>\n",
       "      <td>NaN</td>\n",
       "    </tr>\n",
       "    <tr>\n",
       "      <th>2</th>\n",
       "      <td>6/18/2025 12:00:00 AM</td>\n",
       "      <td>36.82</td>\n",
       "      <td>58.43</td>\n",
       "      <td>6.87</td>\n",
       "      <td>NaN</td>\n",
       "    </tr>\n",
       "    <tr>\n",
       "      <th>3</th>\n",
       "      <td>6/18/2025 12:15:00 AM</td>\n",
       "      <td>36.95</td>\n",
       "      <td>62.15</td>\n",
       "      <td>6.87</td>\n",
       "      <td>NaN</td>\n",
       "    </tr>\n",
       "    <tr>\n",
       "      <th>4</th>\n",
       "      <td>6/18/2025 12:30:00 AM</td>\n",
       "      <td>36.94</td>\n",
       "      <td>63.31</td>\n",
       "      <td>6.89</td>\n",
       "      <td>NaN</td>\n",
       "    </tr>\n",
       "  </tbody>\n",
       "</table>\n",
       "</div>"
      ],
      "text/plain": [
       "              Unnamed: 0 A201-BCP001-BIO0001-TT00026.BIO-BIO-TEM-CTR  \\\n",
       "0                   Time                               Value | First   \n",
       "1  6/17/2025 11:45:00 PM                                       36.93   \n",
       "2  6/18/2025 12:00:00 AM                                       36.82   \n",
       "3  6/18/2025 12:15:00 AM                                       36.95   \n",
       "4  6/18/2025 12:30:00 AM                                       36.94   \n",
       "\n",
       "  A201-BCP001-BIO0001-AIT0024.BIO-DOX-DOX-CTR  \\\n",
       "0                               Value | First   \n",
       "1                                       61.39   \n",
       "2                                       58.43   \n",
       "3                                       62.15   \n",
       "4                                       63.31   \n",
       "\n",
       "  A201-BCP001-BIO0001-AIT0022.BIO-PH1-PHZ-CTR  Unnamed: 4  \n",
       "0                               Value | First         NaN  \n",
       "1                                        6.86         NaN  \n",
       "2                                        6.87         NaN  \n",
       "3                                        6.87         NaN  \n",
       "4                                        6.89         NaN  "
      ]
     },
     "execution_count": 2,
     "metadata": {},
     "output_type": "execute_result"
    }
   ],
   "source": [
    "file_path = r\"C:\\Users\\U1078446\\Downloads\\Data08052025014548PM7DE0D709A25EA7B1.csv\"\n",
    "\n",
    "df = pd.read_csv(file_path)  \n",
    "\n",
    "df.head()\n",
    "\n"
   ]
  },
  {
   "cell_type": "markdown",
   "id": "44495e64",
   "metadata": {},
   "source": [
    "To remove the 1st row and remove unnecassary columns"
   ]
  },
  {
   "cell_type": "code",
   "execution_count": 3,
   "id": "c7eb5d58",
   "metadata": {},
   "outputs": [
    {
     "data": {
      "application/vnd.microsoft.datawrangler.viewer.v0+json": {
       "columns": [
        {
         "name": "index",
         "rawType": "int64",
         "type": "integer"
        },
        {
         "name": "Unnamed: 0",
         "rawType": "object",
         "type": "string"
        },
        {
         "name": "A201-BCP001-BIO0001-TT00026.BIO-BIO-TEM-CTR",
         "rawType": "object",
         "type": "string"
        },
        {
         "name": "A201-BCP001-BIO0001-AIT0024.BIO-DOX-DOX-CTR",
         "rawType": "object",
         "type": "string"
        },
        {
         "name": "A201-BCP001-BIO0001-AIT0022.BIO-PH1-PHZ-CTR",
         "rawType": "object",
         "type": "string"
        }
       ],
       "ref": "01f11a5d-ab22-48a1-93f5-024af72c74fd",
       "rows": [
        [
         "1",
         "6/17/2025 11:45:00 PM",
         "36.93",
         "61.39",
         "6.86"
        ],
        [
         "2",
         "6/18/2025 12:00:00 AM",
         "36.82",
         "58.43",
         "6.87"
        ],
        [
         "3",
         "6/18/2025 12:15:00 AM",
         "36.95",
         "62.15",
         "6.87"
        ],
        [
         "4",
         "6/18/2025 12:30:00 AM",
         "36.94",
         "63.31",
         "6.89"
        ],
        [
         "5",
         "6/18/2025 12:45:00 AM",
         "37.06",
         "59.93",
         "6.89"
        ]
       ],
       "shape": {
        "columns": 4,
        "rows": 5
       }
      },
      "text/html": [
       "<div>\n",
       "<style scoped>\n",
       "    .dataframe tbody tr th:only-of-type {\n",
       "        vertical-align: middle;\n",
       "    }\n",
       "\n",
       "    .dataframe tbody tr th {\n",
       "        vertical-align: top;\n",
       "    }\n",
       "\n",
       "    .dataframe thead th {\n",
       "        text-align: right;\n",
       "    }\n",
       "</style>\n",
       "<table border=\"1\" class=\"dataframe\">\n",
       "  <thead>\n",
       "    <tr style=\"text-align: right;\">\n",
       "      <th></th>\n",
       "      <th>Unnamed: 0</th>\n",
       "      <th>A201-BCP001-BIO0001-TT00026.BIO-BIO-TEM-CTR</th>\n",
       "      <th>A201-BCP001-BIO0001-AIT0024.BIO-DOX-DOX-CTR</th>\n",
       "      <th>A201-BCP001-BIO0001-AIT0022.BIO-PH1-PHZ-CTR</th>\n",
       "    </tr>\n",
       "  </thead>\n",
       "  <tbody>\n",
       "    <tr>\n",
       "      <th>1</th>\n",
       "      <td>6/17/2025 11:45:00 PM</td>\n",
       "      <td>36.93</td>\n",
       "      <td>61.39</td>\n",
       "      <td>6.86</td>\n",
       "    </tr>\n",
       "    <tr>\n",
       "      <th>2</th>\n",
       "      <td>6/18/2025 12:00:00 AM</td>\n",
       "      <td>36.82</td>\n",
       "      <td>58.43</td>\n",
       "      <td>6.87</td>\n",
       "    </tr>\n",
       "    <tr>\n",
       "      <th>3</th>\n",
       "      <td>6/18/2025 12:15:00 AM</td>\n",
       "      <td>36.95</td>\n",
       "      <td>62.15</td>\n",
       "      <td>6.87</td>\n",
       "    </tr>\n",
       "    <tr>\n",
       "      <th>4</th>\n",
       "      <td>6/18/2025 12:30:00 AM</td>\n",
       "      <td>36.94</td>\n",
       "      <td>63.31</td>\n",
       "      <td>6.89</td>\n",
       "    </tr>\n",
       "    <tr>\n",
       "      <th>5</th>\n",
       "      <td>6/18/2025 12:45:00 AM</td>\n",
       "      <td>37.06</td>\n",
       "      <td>59.93</td>\n",
       "      <td>6.89</td>\n",
       "    </tr>\n",
       "  </tbody>\n",
       "</table>\n",
       "</div>"
      ],
      "text/plain": [
       "              Unnamed: 0 A201-BCP001-BIO0001-TT00026.BIO-BIO-TEM-CTR  \\\n",
       "1  6/17/2025 11:45:00 PM                                       36.93   \n",
       "2  6/18/2025 12:00:00 AM                                       36.82   \n",
       "3  6/18/2025 12:15:00 AM                                       36.95   \n",
       "4  6/18/2025 12:30:00 AM                                       36.94   \n",
       "5  6/18/2025 12:45:00 AM                                       37.06   \n",
       "\n",
       "  A201-BCP001-BIO0001-AIT0024.BIO-DOX-DOX-CTR  \\\n",
       "1                                       61.39   \n",
       "2                                       58.43   \n",
       "3                                       62.15   \n",
       "4                                       63.31   \n",
       "5                                       59.93   \n",
       "\n",
       "  A201-BCP001-BIO0001-AIT0022.BIO-PH1-PHZ-CTR  \n",
       "1                                        6.86  \n",
       "2                                        6.87  \n",
       "3                                        6.87  \n",
       "4                                        6.89  \n",
       "5                                        6.89  "
      ]
     },
     "execution_count": 3,
     "metadata": {},
     "output_type": "execute_result"
    }
   ],
   "source": [
    "# Remove the first row \n",
    "df = df.iloc[1:]\n",
    "\n",
    "# Remove columns that start with 'Unnamed' except for 'Unnamed: 0'\n",
    "df = df.drop(columns=[col for col in df.columns if col.startswith('Unnamed') and col != 'Unnamed: 0'])\n",
    "\n",
    "df.head()"
   ]
  },
  {
   "cell_type": "code",
   "execution_count": 4,
   "id": "15d049dc",
   "metadata": {},
   "outputs": [
    {
     "data": {
      "application/vnd.microsoft.datawrangler.viewer.v0+json": {
       "columns": [
        {
         "name": "index",
         "rawType": "int64",
         "type": "integer"
        },
        {
         "name": "Time",
         "rawType": "object",
         "type": "string"
        },
        {
         "name": "A201-BCP001-BIO0001-TT00026.BIO-BIO-TEM-CTR",
         "rawType": "object",
         "type": "string"
        },
        {
         "name": "A201-BCP001-BIO0001-AIT0024.BIO-DOX-DOX-CTR",
         "rawType": "object",
         "type": "string"
        },
        {
         "name": "A201-BCP001-BIO0001-AIT0022.BIO-PH1-PHZ-CTR",
         "rawType": "object",
         "type": "string"
        }
       ],
       "ref": "22691037-0ad8-4992-a1c6-1395be123491",
       "rows": [
        [
         "1",
         "6/17/2025 11:45:00 PM",
         "36.93",
         "61.39",
         "6.86"
        ],
        [
         "2",
         "6/18/2025 12:00:00 AM",
         "36.82",
         "58.43",
         "6.87"
        ],
        [
         "3",
         "6/18/2025 12:15:00 AM",
         "36.95",
         "62.15",
         "6.87"
        ],
        [
         "4",
         "6/18/2025 12:30:00 AM",
         "36.94",
         "63.31",
         "6.89"
        ],
        [
         "5",
         "6/18/2025 12:45:00 AM",
         "37.06",
         "59.93",
         "6.89"
        ]
       ],
       "shape": {
        "columns": 4,
        "rows": 5
       }
      },
      "text/html": [
       "<div>\n",
       "<style scoped>\n",
       "    .dataframe tbody tr th:only-of-type {\n",
       "        vertical-align: middle;\n",
       "    }\n",
       "\n",
       "    .dataframe tbody tr th {\n",
       "        vertical-align: top;\n",
       "    }\n",
       "\n",
       "    .dataframe thead th {\n",
       "        text-align: right;\n",
       "    }\n",
       "</style>\n",
       "<table border=\"1\" class=\"dataframe\">\n",
       "  <thead>\n",
       "    <tr style=\"text-align: right;\">\n",
       "      <th></th>\n",
       "      <th>Time</th>\n",
       "      <th>A201-BCP001-BIO0001-TT00026.BIO-BIO-TEM-CTR</th>\n",
       "      <th>A201-BCP001-BIO0001-AIT0024.BIO-DOX-DOX-CTR</th>\n",
       "      <th>A201-BCP001-BIO0001-AIT0022.BIO-PH1-PHZ-CTR</th>\n",
       "    </tr>\n",
       "  </thead>\n",
       "  <tbody>\n",
       "    <tr>\n",
       "      <th>1</th>\n",
       "      <td>6/17/2025 11:45:00 PM</td>\n",
       "      <td>36.93</td>\n",
       "      <td>61.39</td>\n",
       "      <td>6.86</td>\n",
       "    </tr>\n",
       "    <tr>\n",
       "      <th>2</th>\n",
       "      <td>6/18/2025 12:00:00 AM</td>\n",
       "      <td>36.82</td>\n",
       "      <td>58.43</td>\n",
       "      <td>6.87</td>\n",
       "    </tr>\n",
       "    <tr>\n",
       "      <th>3</th>\n",
       "      <td>6/18/2025 12:15:00 AM</td>\n",
       "      <td>36.95</td>\n",
       "      <td>62.15</td>\n",
       "      <td>6.87</td>\n",
       "    </tr>\n",
       "    <tr>\n",
       "      <th>4</th>\n",
       "      <td>6/18/2025 12:30:00 AM</td>\n",
       "      <td>36.94</td>\n",
       "      <td>63.31</td>\n",
       "      <td>6.89</td>\n",
       "    </tr>\n",
       "    <tr>\n",
       "      <th>5</th>\n",
       "      <td>6/18/2025 12:45:00 AM</td>\n",
       "      <td>37.06</td>\n",
       "      <td>59.93</td>\n",
       "      <td>6.89</td>\n",
       "    </tr>\n",
       "  </tbody>\n",
       "</table>\n",
       "</div>"
      ],
      "text/plain": [
       "                    Time A201-BCP001-BIO0001-TT00026.BIO-BIO-TEM-CTR  \\\n",
       "1  6/17/2025 11:45:00 PM                                       36.93   \n",
       "2  6/18/2025 12:00:00 AM                                       36.82   \n",
       "3  6/18/2025 12:15:00 AM                                       36.95   \n",
       "4  6/18/2025 12:30:00 AM                                       36.94   \n",
       "5  6/18/2025 12:45:00 AM                                       37.06   \n",
       "\n",
       "  A201-BCP001-BIO0001-AIT0024.BIO-DOX-DOX-CTR  \\\n",
       "1                                       61.39   \n",
       "2                                       58.43   \n",
       "3                                       62.15   \n",
       "4                                       63.31   \n",
       "5                                       59.93   \n",
       "\n",
       "  A201-BCP001-BIO0001-AIT0022.BIO-PH1-PHZ-CTR  \n",
       "1                                        6.86  \n",
       "2                                        6.87  \n",
       "3                                        6.87  \n",
       "4                                        6.89  \n",
       "5                                        6.89  "
      ]
     },
     "execution_count": 4,
     "metadata": {},
     "output_type": "execute_result"
    }
   ],
   "source": [
    "# Rename the first column to 'Time'\n",
    "df = df.rename(columns={df.columns[0]: 'Time'})\n",
    "df.head()\n"
   ]
  },
  {
   "cell_type": "markdown",
   "id": "ff967770",
   "metadata": {},
   "source": [
    "Parse the time column"
   ]
  },
  {
   "cell_type": "code",
   "execution_count": 5,
   "id": "4a20264d",
   "metadata": {},
   "outputs": [
    {
     "data": {
      "application/vnd.microsoft.datawrangler.viewer.v0+json": {
       "columns": [
        {
         "name": "Time",
         "rawType": "datetime64[ns]",
         "type": "datetime"
        },
        {
         "name": "A201-BCP001-BIO0001-TT00026.BIO-BIO-TEM-CTR",
         "rawType": "object",
         "type": "string"
        },
        {
         "name": "A201-BCP001-BIO0001-AIT0024.BIO-DOX-DOX-CTR",
         "rawType": "object",
         "type": "string"
        },
        {
         "name": "A201-BCP001-BIO0001-AIT0022.BIO-PH1-PHZ-CTR",
         "rawType": "object",
         "type": "string"
        }
       ],
       "ref": "19bd0f3d-8abe-4808-8b97-e3945fcdf282",
       "rows": [
        [
         "2025-06-17 23:45:00",
         "36.93",
         "61.39",
         "6.86"
        ],
        [
         "2025-06-18 00:00:00",
         "36.82",
         "58.43",
         "6.87"
        ],
        [
         "2025-06-18 00:15:00",
         "36.95",
         "62.15",
         "6.87"
        ],
        [
         "2025-06-18 00:30:00",
         "36.94",
         "63.31",
         "6.89"
        ],
        [
         "2025-06-18 00:45:00",
         "37.06",
         "59.93",
         "6.89"
        ]
       ],
       "shape": {
        "columns": 3,
        "rows": 5
       }
      },
      "text/html": [
       "<div>\n",
       "<style scoped>\n",
       "    .dataframe tbody tr th:only-of-type {\n",
       "        vertical-align: middle;\n",
       "    }\n",
       "\n",
       "    .dataframe tbody tr th {\n",
       "        vertical-align: top;\n",
       "    }\n",
       "\n",
       "    .dataframe thead th {\n",
       "        text-align: right;\n",
       "    }\n",
       "</style>\n",
       "<table border=\"1\" class=\"dataframe\">\n",
       "  <thead>\n",
       "    <tr style=\"text-align: right;\">\n",
       "      <th></th>\n",
       "      <th>A201-BCP001-BIO0001-TT00026.BIO-BIO-TEM-CTR</th>\n",
       "      <th>A201-BCP001-BIO0001-AIT0024.BIO-DOX-DOX-CTR</th>\n",
       "      <th>A201-BCP001-BIO0001-AIT0022.BIO-PH1-PHZ-CTR</th>\n",
       "    </tr>\n",
       "    <tr>\n",
       "      <th>Time</th>\n",
       "      <th></th>\n",
       "      <th></th>\n",
       "      <th></th>\n",
       "    </tr>\n",
       "  </thead>\n",
       "  <tbody>\n",
       "    <tr>\n",
       "      <th>2025-06-17 23:45:00</th>\n",
       "      <td>36.93</td>\n",
       "      <td>61.39</td>\n",
       "      <td>6.86</td>\n",
       "    </tr>\n",
       "    <tr>\n",
       "      <th>2025-06-18 00:00:00</th>\n",
       "      <td>36.82</td>\n",
       "      <td>58.43</td>\n",
       "      <td>6.87</td>\n",
       "    </tr>\n",
       "    <tr>\n",
       "      <th>2025-06-18 00:15:00</th>\n",
       "      <td>36.95</td>\n",
       "      <td>62.15</td>\n",
       "      <td>6.87</td>\n",
       "    </tr>\n",
       "    <tr>\n",
       "      <th>2025-06-18 00:30:00</th>\n",
       "      <td>36.94</td>\n",
       "      <td>63.31</td>\n",
       "      <td>6.89</td>\n",
       "    </tr>\n",
       "    <tr>\n",
       "      <th>2025-06-18 00:45:00</th>\n",
       "      <td>37.06</td>\n",
       "      <td>59.93</td>\n",
       "      <td>6.89</td>\n",
       "    </tr>\n",
       "  </tbody>\n",
       "</table>\n",
       "</div>"
      ],
      "text/plain": [
       "                    A201-BCP001-BIO0001-TT00026.BIO-BIO-TEM-CTR  \\\n",
       "Time                                                              \n",
       "2025-06-17 23:45:00                                       36.93   \n",
       "2025-06-18 00:00:00                                       36.82   \n",
       "2025-06-18 00:15:00                                       36.95   \n",
       "2025-06-18 00:30:00                                       36.94   \n",
       "2025-06-18 00:45:00                                       37.06   \n",
       "\n",
       "                    A201-BCP001-BIO0001-AIT0024.BIO-DOX-DOX-CTR  \\\n",
       "Time                                                              \n",
       "2025-06-17 23:45:00                                       61.39   \n",
       "2025-06-18 00:00:00                                       58.43   \n",
       "2025-06-18 00:15:00                                       62.15   \n",
       "2025-06-18 00:30:00                                       63.31   \n",
       "2025-06-18 00:45:00                                       59.93   \n",
       "\n",
       "                    A201-BCP001-BIO0001-AIT0022.BIO-PH1-PHZ-CTR  \n",
       "Time                                                             \n",
       "2025-06-17 23:45:00                                        6.86  \n",
       "2025-06-18 00:00:00                                        6.87  \n",
       "2025-06-18 00:15:00                                        6.87  \n",
       "2025-06-18 00:30:00                                        6.89  \n",
       "2025-06-18 00:45:00                                        6.89  "
      ]
     },
     "execution_count": 5,
     "metadata": {},
     "output_type": "execute_result"
    }
   ],
   "source": [
    "# Parse the 'Time' column\n",
    "df['Time'] = pd.to_datetime(df['Time'], format='%m/%d/%Y %I:%M:%S %p', errors='coerce')\n",
    "df.set_index('Time', inplace=True)\n",
    "df.sort_index(inplace=True)\n",
    "df.head()"
   ]
  },
  {
   "cell_type": "markdown",
   "id": "8b99b3ad",
   "metadata": {},
   "source": [
    "final check "
   ]
  },
  {
   "cell_type": "code",
   "execution_count": 6,
   "id": "16092a20",
   "metadata": {},
   "outputs": [
    {
     "name": "stdout",
     "output_type": "stream",
     "text": [
      "<class 'pandas.core.frame.DataFrame'>\n",
      "DatetimeIndex: 1154 entries, 2025-06-17 23:45:00 to 2025-06-30 00:00:00\n",
      "Data columns (total 3 columns):\n",
      " #   Column                                       Non-Null Count  Dtype \n",
      "---  ------                                       --------------  ----- \n",
      " 0   A201-BCP001-BIO0001-TT00026.BIO-BIO-TEM-CTR  1154 non-null   object\n",
      " 1   A201-BCP001-BIO0001-AIT0024.BIO-DOX-DOX-CTR  1154 non-null   object\n",
      " 2   A201-BCP001-BIO0001-AIT0022.BIO-PH1-PHZ-CTR  1154 non-null   object\n",
      "dtypes: object(3)\n",
      "memory usage: 36.1+ KB\n"
     ]
    },
    {
     "data": {
      "application/vnd.microsoft.datawrangler.viewer.v0+json": {
       "columns": [
        {
         "name": "Time",
         "rawType": "datetime64[ns]",
         "type": "datetime"
        },
        {
         "name": "A201-BCP001-BIO0001-TT00026.BIO-BIO-TEM-CTR",
         "rawType": "object",
         "type": "string"
        },
        {
         "name": "A201-BCP001-BIO0001-AIT0024.BIO-DOX-DOX-CTR",
         "rawType": "object",
         "type": "string"
        },
        {
         "name": "A201-BCP001-BIO0001-AIT0022.BIO-PH1-PHZ-CTR",
         "rawType": "object",
         "type": "string"
        }
       ],
       "ref": "41172815-34c4-4f48-abd2-29a7145cd70a",
       "rows": [
        [
         "2025-06-17 23:45:00",
         "36.93",
         "61.39",
         "6.86"
        ],
        [
         "2025-06-18 00:00:00",
         "36.82",
         "58.43",
         "6.87"
        ],
        [
         "2025-06-18 00:15:00",
         "36.95",
         "62.15",
         "6.87"
        ],
        [
         "2025-06-18 00:30:00",
         "36.94",
         "63.31",
         "6.89"
        ],
        [
         "2025-06-18 00:45:00",
         "37.06",
         "59.93",
         "6.89"
        ],
        [
         "2025-06-18 01:00:00",
         "37.10",
         "59.67",
         "6.89"
        ],
        [
         "2025-06-18 01:15:00",
         "37.09",
         "63.94",
         "6.89"
        ],
        [
         "2025-06-18 01:30:00",
         "37.01",
         "61.75",
         "6.89"
        ],
        [
         "2025-06-18 01:45:00",
         "37.02",
         "58.43",
         "6.89"
        ],
        [
         "2025-06-18 02:00:00",
         "36.98",
         "59.99",
         "6.89"
        ]
       ],
       "shape": {
        "columns": 3,
        "rows": 10
       }
      },
      "text/html": [
       "<div>\n",
       "<style scoped>\n",
       "    .dataframe tbody tr th:only-of-type {\n",
       "        vertical-align: middle;\n",
       "    }\n",
       "\n",
       "    .dataframe tbody tr th {\n",
       "        vertical-align: top;\n",
       "    }\n",
       "\n",
       "    .dataframe thead th {\n",
       "        text-align: right;\n",
       "    }\n",
       "</style>\n",
       "<table border=\"1\" class=\"dataframe\">\n",
       "  <thead>\n",
       "    <tr style=\"text-align: right;\">\n",
       "      <th></th>\n",
       "      <th>A201-BCP001-BIO0001-TT00026.BIO-BIO-TEM-CTR</th>\n",
       "      <th>A201-BCP001-BIO0001-AIT0024.BIO-DOX-DOX-CTR</th>\n",
       "      <th>A201-BCP001-BIO0001-AIT0022.BIO-PH1-PHZ-CTR</th>\n",
       "    </tr>\n",
       "    <tr>\n",
       "      <th>Time</th>\n",
       "      <th></th>\n",
       "      <th></th>\n",
       "      <th></th>\n",
       "    </tr>\n",
       "  </thead>\n",
       "  <tbody>\n",
       "    <tr>\n",
       "      <th>2025-06-17 23:45:00</th>\n",
       "      <td>36.93</td>\n",
       "      <td>61.39</td>\n",
       "      <td>6.86</td>\n",
       "    </tr>\n",
       "    <tr>\n",
       "      <th>2025-06-18 00:00:00</th>\n",
       "      <td>36.82</td>\n",
       "      <td>58.43</td>\n",
       "      <td>6.87</td>\n",
       "    </tr>\n",
       "    <tr>\n",
       "      <th>2025-06-18 00:15:00</th>\n",
       "      <td>36.95</td>\n",
       "      <td>62.15</td>\n",
       "      <td>6.87</td>\n",
       "    </tr>\n",
       "    <tr>\n",
       "      <th>2025-06-18 00:30:00</th>\n",
       "      <td>36.94</td>\n",
       "      <td>63.31</td>\n",
       "      <td>6.89</td>\n",
       "    </tr>\n",
       "    <tr>\n",
       "      <th>2025-06-18 00:45:00</th>\n",
       "      <td>37.06</td>\n",
       "      <td>59.93</td>\n",
       "      <td>6.89</td>\n",
       "    </tr>\n",
       "    <tr>\n",
       "      <th>2025-06-18 01:00:00</th>\n",
       "      <td>37.10</td>\n",
       "      <td>59.67</td>\n",
       "      <td>6.89</td>\n",
       "    </tr>\n",
       "    <tr>\n",
       "      <th>2025-06-18 01:15:00</th>\n",
       "      <td>37.09</td>\n",
       "      <td>63.94</td>\n",
       "      <td>6.89</td>\n",
       "    </tr>\n",
       "    <tr>\n",
       "      <th>2025-06-18 01:30:00</th>\n",
       "      <td>37.01</td>\n",
       "      <td>61.75</td>\n",
       "      <td>6.89</td>\n",
       "    </tr>\n",
       "    <tr>\n",
       "      <th>2025-06-18 01:45:00</th>\n",
       "      <td>37.02</td>\n",
       "      <td>58.43</td>\n",
       "      <td>6.89</td>\n",
       "    </tr>\n",
       "    <tr>\n",
       "      <th>2025-06-18 02:00:00</th>\n",
       "      <td>36.98</td>\n",
       "      <td>59.99</td>\n",
       "      <td>6.89</td>\n",
       "    </tr>\n",
       "  </tbody>\n",
       "</table>\n",
       "</div>"
      ],
      "text/plain": [
       "                    A201-BCP001-BIO0001-TT00026.BIO-BIO-TEM-CTR  \\\n",
       "Time                                                              \n",
       "2025-06-17 23:45:00                                       36.93   \n",
       "2025-06-18 00:00:00                                       36.82   \n",
       "2025-06-18 00:15:00                                       36.95   \n",
       "2025-06-18 00:30:00                                       36.94   \n",
       "2025-06-18 00:45:00                                       37.06   \n",
       "2025-06-18 01:00:00                                       37.10   \n",
       "2025-06-18 01:15:00                                       37.09   \n",
       "2025-06-18 01:30:00                                       37.01   \n",
       "2025-06-18 01:45:00                                       37.02   \n",
       "2025-06-18 02:00:00                                       36.98   \n",
       "\n",
       "                    A201-BCP001-BIO0001-AIT0024.BIO-DOX-DOX-CTR  \\\n",
       "Time                                                              \n",
       "2025-06-17 23:45:00                                       61.39   \n",
       "2025-06-18 00:00:00                                       58.43   \n",
       "2025-06-18 00:15:00                                       62.15   \n",
       "2025-06-18 00:30:00                                       63.31   \n",
       "2025-06-18 00:45:00                                       59.93   \n",
       "2025-06-18 01:00:00                                       59.67   \n",
       "2025-06-18 01:15:00                                       63.94   \n",
       "2025-06-18 01:30:00                                       61.75   \n",
       "2025-06-18 01:45:00                                       58.43   \n",
       "2025-06-18 02:00:00                                       59.99   \n",
       "\n",
       "                    A201-BCP001-BIO0001-AIT0022.BIO-PH1-PHZ-CTR  \n",
       "Time                                                             \n",
       "2025-06-17 23:45:00                                        6.86  \n",
       "2025-06-18 00:00:00                                        6.87  \n",
       "2025-06-18 00:15:00                                        6.87  \n",
       "2025-06-18 00:30:00                                        6.89  \n",
       "2025-06-18 00:45:00                                        6.89  \n",
       "2025-06-18 01:00:00                                        6.89  \n",
       "2025-06-18 01:15:00                                        6.89  \n",
       "2025-06-18 01:30:00                                        6.89  \n",
       "2025-06-18 01:45:00                                        6.89  \n",
       "2025-06-18 02:00:00                                        6.89  "
      ]
     },
     "execution_count": 6,
     "metadata": {},
     "output_type": "execute_result"
    }
   ],
   "source": [
    "df.info()\n",
    "df.head(10)"
   ]
  },
  {
   "cell_type": "markdown",
   "id": "0f75b681",
   "metadata": {},
   "source": [
    "SAVING THE FILE\n"
   ]
  },
  {
   "cell_type": "code",
   "execution_count": 7,
   "id": "8eebe41e",
   "metadata": {},
   "outputs": [],
   "source": [
    "original_filename = os.path.basename(file_path)\n",
    "processed_filename = f\"Processed_{original_filename}\"\n",
    "processed_filepath = os.path.join(os.path.dirname(file_path), processed_filename)\n",
    "\n",
    "df.to_csv(processed_filepath, index=True)"
   ]
  }
 ],
 "metadata": {
  "kernelspec": {
   "display_name": "Python 3",
   "language": "python",
   "name": "python3"
  },
  "language_info": {
   "codemirror_mode": {
    "name": "ipython",
    "version": 3
   },
   "file_extension": ".py",
   "mimetype": "text/x-python",
   "name": "python",
   "nbconvert_exporter": "python",
   "pygments_lexer": "ipython3",
   "version": "3.11.9"
  }
 },
 "nbformat": 4,
 "nbformat_minor": 5
}
