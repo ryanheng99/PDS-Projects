{
 "cells": [
  {
   "cell_type": "code",
   "execution_count": 7,
   "id": "6302dd73-9752-4710-8cea-8340d6c4e027",
   "metadata": {},
   "outputs": [
    {
     "data": {
      "application/vnd.microsoft.datawrangler.viewer.v0+json": {
       "columns": [
        {
         "name": "index",
         "rawType": "int64",
         "type": "integer"
        },
        {
         "name": "Unnamed: 0",
         "rawType": "object",
         "type": "string"
        },
        {
         "name": "A201-BCP001-BIO0001-TT00026.BIO-BIO-TEM-CTR",
         "rawType": "object",
         "type": "string"
        },
        {
         "name": "A201-BCP001-BIO0001-AIT0030.BIO-CA2-CAP-CTR",
         "rawType": "object",
         "type": "string"
        },
        {
         "name": "A201-BCP001-BIO0001-AIT0024.BIO-DOX-DOX-CTR",
         "rawType": "object",
         "type": "string"
        },
        {
         "name": "A201-BCP001-BIO0001-AIT0022.BIO-PH2-PHZ-CTR",
         "rawType": "object",
         "type": "string"
        },
        {
         "name": "Unnamed: 5",
         "rawType": "float64",
         "type": "float"
        }
       ],
       "ref": "c6ea5b94-0b75-4930-8072-bd9f9286b27d",
       "rows": [
        [
         "0",
         "Time",
         "Value | First",
         "Value | First",
         "Value | First",
         "Value | First",
         null
        ],
        [
         "1",
         "6/17/2025 11:30:00 PM",
         "37.06",
         "7.87",
         "64.28",
         "6.85",
         null
        ],
        [
         "2",
         "6/18/2025 12:00:00 AM",
         "36.82",
         "7.66",
         "58.43",
         "6.86",
         null
        ],
        [
         "3",
         "6/18/2025 12:30:00 AM",
         "36.94",
         "7.37",
         "63.31",
         "6.88",
         null
        ],
        [
         "4",
         "6/18/2025 1:00:00 AM",
         "37.10",
         "7.10",
         "59.67",
         "6.88",
         null
        ]
       ],
       "shape": {
        "columns": 6,
        "rows": 5
       }
      },
      "text/html": [
       "<div>\n",
       "<style scoped>\n",
       "    .dataframe tbody tr th:only-of-type {\n",
       "        vertical-align: middle;\n",
       "    }\n",
       "\n",
       "    .dataframe tbody tr th {\n",
       "        vertical-align: top;\n",
       "    }\n",
       "\n",
       "    .dataframe thead th {\n",
       "        text-align: right;\n",
       "    }\n",
       "</style>\n",
       "<table border=\"1\" class=\"dataframe\">\n",
       "  <thead>\n",
       "    <tr style=\"text-align: right;\">\n",
       "      <th></th>\n",
       "      <th>Unnamed: 0</th>\n",
       "      <th>A201-BCP001-BIO0001-TT00026.BIO-BIO-TEM-CTR</th>\n",
       "      <th>A201-BCP001-BIO0001-AIT0030.BIO-CA2-CAP-CTR</th>\n",
       "      <th>A201-BCP001-BIO0001-AIT0024.BIO-DOX-DOX-CTR</th>\n",
       "      <th>A201-BCP001-BIO0001-AIT0022.BIO-PH2-PHZ-CTR</th>\n",
       "      <th>Unnamed: 5</th>\n",
       "    </tr>\n",
       "  </thead>\n",
       "  <tbody>\n",
       "    <tr>\n",
       "      <th>0</th>\n",
       "      <td>Time</td>\n",
       "      <td>Value | First</td>\n",
       "      <td>Value | First</td>\n",
       "      <td>Value | First</td>\n",
       "      <td>Value | First</td>\n",
       "      <td>NaN</td>\n",
       "    </tr>\n",
       "    <tr>\n",
       "      <th>1</th>\n",
       "      <td>6/17/2025 11:30:00 PM</td>\n",
       "      <td>37.06</td>\n",
       "      <td>7.87</td>\n",
       "      <td>64.28</td>\n",
       "      <td>6.85</td>\n",
       "      <td>NaN</td>\n",
       "    </tr>\n",
       "    <tr>\n",
       "      <th>2</th>\n",
       "      <td>6/18/2025 12:00:00 AM</td>\n",
       "      <td>36.82</td>\n",
       "      <td>7.66</td>\n",
       "      <td>58.43</td>\n",
       "      <td>6.86</td>\n",
       "      <td>NaN</td>\n",
       "    </tr>\n",
       "    <tr>\n",
       "      <th>3</th>\n",
       "      <td>6/18/2025 12:30:00 AM</td>\n",
       "      <td>36.94</td>\n",
       "      <td>7.37</td>\n",
       "      <td>63.31</td>\n",
       "      <td>6.88</td>\n",
       "      <td>NaN</td>\n",
       "    </tr>\n",
       "    <tr>\n",
       "      <th>4</th>\n",
       "      <td>6/18/2025 1:00:00 AM</td>\n",
       "      <td>37.10</td>\n",
       "      <td>7.10</td>\n",
       "      <td>59.67</td>\n",
       "      <td>6.88</td>\n",
       "      <td>NaN</td>\n",
       "    </tr>\n",
       "  </tbody>\n",
       "</table>\n",
       "</div>"
      ],
      "text/plain": [
       "              Unnamed: 0 A201-BCP001-BIO0001-TT00026.BIO-BIO-TEM-CTR  \\\n",
       "0                   Time                               Value | First   \n",
       "1  6/17/2025 11:30:00 PM                                       37.06   \n",
       "2  6/18/2025 12:00:00 AM                                       36.82   \n",
       "3  6/18/2025 12:30:00 AM                                       36.94   \n",
       "4   6/18/2025 1:00:00 AM                                       37.10   \n",
       "\n",
       "  A201-BCP001-BIO0001-AIT0030.BIO-CA2-CAP-CTR  \\\n",
       "0                               Value | First   \n",
       "1                                        7.87   \n",
       "2                                        7.66   \n",
       "3                                        7.37   \n",
       "4                                        7.10   \n",
       "\n",
       "  A201-BCP001-BIO0001-AIT0024.BIO-DOX-DOX-CTR  \\\n",
       "0                               Value | First   \n",
       "1                                       64.28   \n",
       "2                                       58.43   \n",
       "3                                       63.31   \n",
       "4                                       59.67   \n",
       "\n",
       "  A201-BCP001-BIO0001-AIT0022.BIO-PH2-PHZ-CTR  Unnamed: 5  \n",
       "0                               Value | First         NaN  \n",
       "1                                        6.85         NaN  \n",
       "2                                        6.86         NaN  \n",
       "3                                        6.88         NaN  \n",
       "4                                        6.88         NaN  "
      ]
     },
     "execution_count": 7,
     "metadata": {},
     "output_type": "execute_result"
    }
   ],
   "source": [
    "import pandas as pd\n",
    "import numpy as np\n",
    "import os\n",
    "# This script reads a CSV file and creates a DataFrame from it.\n",
    "# Make sure to adjust the file path to your specific file location.\n",
    "\n",
    "# EXTRACT\n",
    "\n",
    "file_path = r\"C:\\Users\\U1078446\\Downloads\\Data07242025041326PM0857DB658E8D1D2A.csv\"\n",
    "\n",
    "# Read the CSV file into a DataFrame, skipping the first row as it cant read the # header correctly.\n",
    "df = pd.read_csv(file_path)  \n",
    "\n",
    "df.head()\n",
    "\n"
   ]
  },
  {
   "cell_type": "code",
   "execution_count": 8,
   "id": "c7eb5d58",
   "metadata": {},
   "outputs": [
    {
     "data": {
      "application/vnd.microsoft.datawrangler.viewer.v0+json": {
       "columns": [
        {
         "name": "index",
         "rawType": "int64",
         "type": "integer"
        },
        {
         "name": "Unnamed: 0",
         "rawType": "object",
         "type": "string"
        },
        {
         "name": "A201-BCP001-BIO0001-TT00026.BIO-BIO-TEM-CTR",
         "rawType": "object",
         "type": "string"
        },
        {
         "name": "A201-BCP001-BIO0001-AIT0030.BIO-CA2-CAP-CTR",
         "rawType": "object",
         "type": "string"
        },
        {
         "name": "A201-BCP001-BIO0001-AIT0024.BIO-DOX-DOX-CTR",
         "rawType": "object",
         "type": "string"
        },
        {
         "name": "A201-BCP001-BIO0001-AIT0022.BIO-PH2-PHZ-CTR",
         "rawType": "object",
         "type": "string"
        }
       ],
       "ref": "348c9173-056e-4826-90f3-71a410937eed",
       "rows": [
        [
         "1",
         "6/17/2025 11:30:00 PM",
         "37.06",
         "7.87",
         "64.28",
         "6.85"
        ],
        [
         "2",
         "6/18/2025 12:00:00 AM",
         "36.82",
         "7.66",
         "58.43",
         "6.86"
        ],
        [
         "3",
         "6/18/2025 12:30:00 AM",
         "36.94",
         "7.37",
         "63.31",
         "6.88"
        ],
        [
         "4",
         "6/18/2025 1:00:00 AM",
         "37.10",
         "7.10",
         "59.67",
         "6.88"
        ],
        [
         "5",
         "6/18/2025 1:30:00 AM",
         "37.01",
         "7.33",
         "61.75",
         "6.88"
        ]
       ],
       "shape": {
        "columns": 5,
        "rows": 5
       }
      },
      "text/html": [
       "<div>\n",
       "<style scoped>\n",
       "    .dataframe tbody tr th:only-of-type {\n",
       "        vertical-align: middle;\n",
       "    }\n",
       "\n",
       "    .dataframe tbody tr th {\n",
       "        vertical-align: top;\n",
       "    }\n",
       "\n",
       "    .dataframe thead th {\n",
       "        text-align: right;\n",
       "    }\n",
       "</style>\n",
       "<table border=\"1\" class=\"dataframe\">\n",
       "  <thead>\n",
       "    <tr style=\"text-align: right;\">\n",
       "      <th></th>\n",
       "      <th>Unnamed: 0</th>\n",
       "      <th>A201-BCP001-BIO0001-TT00026.BIO-BIO-TEM-CTR</th>\n",
       "      <th>A201-BCP001-BIO0001-AIT0030.BIO-CA2-CAP-CTR</th>\n",
       "      <th>A201-BCP001-BIO0001-AIT0024.BIO-DOX-DOX-CTR</th>\n",
       "      <th>A201-BCP001-BIO0001-AIT0022.BIO-PH2-PHZ-CTR</th>\n",
       "    </tr>\n",
       "  </thead>\n",
       "  <tbody>\n",
       "    <tr>\n",
       "      <th>1</th>\n",
       "      <td>6/17/2025 11:30:00 PM</td>\n",
       "      <td>37.06</td>\n",
       "      <td>7.87</td>\n",
       "      <td>64.28</td>\n",
       "      <td>6.85</td>\n",
       "    </tr>\n",
       "    <tr>\n",
       "      <th>2</th>\n",
       "      <td>6/18/2025 12:00:00 AM</td>\n",
       "      <td>36.82</td>\n",
       "      <td>7.66</td>\n",
       "      <td>58.43</td>\n",
       "      <td>6.86</td>\n",
       "    </tr>\n",
       "    <tr>\n",
       "      <th>3</th>\n",
       "      <td>6/18/2025 12:30:00 AM</td>\n",
       "      <td>36.94</td>\n",
       "      <td>7.37</td>\n",
       "      <td>63.31</td>\n",
       "      <td>6.88</td>\n",
       "    </tr>\n",
       "    <tr>\n",
       "      <th>4</th>\n",
       "      <td>6/18/2025 1:00:00 AM</td>\n",
       "      <td>37.10</td>\n",
       "      <td>7.10</td>\n",
       "      <td>59.67</td>\n",
       "      <td>6.88</td>\n",
       "    </tr>\n",
       "    <tr>\n",
       "      <th>5</th>\n",
       "      <td>6/18/2025 1:30:00 AM</td>\n",
       "      <td>37.01</td>\n",
       "      <td>7.33</td>\n",
       "      <td>61.75</td>\n",
       "      <td>6.88</td>\n",
       "    </tr>\n",
       "  </tbody>\n",
       "</table>\n",
       "</div>"
      ],
      "text/plain": [
       "              Unnamed: 0 A201-BCP001-BIO0001-TT00026.BIO-BIO-TEM-CTR  \\\n",
       "1  6/17/2025 11:30:00 PM                                       37.06   \n",
       "2  6/18/2025 12:00:00 AM                                       36.82   \n",
       "3  6/18/2025 12:30:00 AM                                       36.94   \n",
       "4   6/18/2025 1:00:00 AM                                       37.10   \n",
       "5   6/18/2025 1:30:00 AM                                       37.01   \n",
       "\n",
       "  A201-BCP001-BIO0001-AIT0030.BIO-CA2-CAP-CTR  \\\n",
       "1                                        7.87   \n",
       "2                                        7.66   \n",
       "3                                        7.37   \n",
       "4                                        7.10   \n",
       "5                                        7.33   \n",
       "\n",
       "  A201-BCP001-BIO0001-AIT0024.BIO-DOX-DOX-CTR  \\\n",
       "1                                       64.28   \n",
       "2                                       58.43   \n",
       "3                                       63.31   \n",
       "4                                       59.67   \n",
       "5                                       61.75   \n",
       "\n",
       "  A201-BCP001-BIO0001-AIT0022.BIO-PH2-PHZ-CTR  \n",
       "1                                        6.85  \n",
       "2                                        6.86  \n",
       "3                                        6.88  \n",
       "4                                        6.88  \n",
       "5                                        6.88  "
      ]
     },
     "execution_count": 8,
     "metadata": {},
     "output_type": "execute_result"
    }
   ],
   "source": [
    "# TRANSFORM\n",
    "\n",
    "# Remove the first row \n",
    "df = df.iloc[1:]\n",
    "\n",
    "# Remove columns that start with 'Unnamed' except for 'Unnamed: 0'\n",
    "df = df.drop(columns=[col for col in df.columns if col.startswith('Unnamed') and col != 'Unnamed: 0'])\n",
    "\n",
    "df.head()"
   ]
  },
  {
   "cell_type": "code",
   "execution_count": 9,
   "id": "15d049dc",
   "metadata": {},
   "outputs": [
    {
     "data": {
      "application/vnd.microsoft.datawrangler.viewer.v0+json": {
       "columns": [
        {
         "name": "index",
         "rawType": "int64",
         "type": "integer"
        },
        {
         "name": "Time",
         "rawType": "object",
         "type": "string"
        },
        {
         "name": "A201-BCP001-BIO0001-TT00026.BIO-BIO-TEM-CTR",
         "rawType": "object",
         "type": "string"
        },
        {
         "name": "A201-BCP001-BIO0001-AIT0030.BIO-CA2-CAP-CTR",
         "rawType": "object",
         "type": "string"
        },
        {
         "name": "A201-BCP001-BIO0001-AIT0024.BIO-DOX-DOX-CTR",
         "rawType": "object",
         "type": "string"
        },
        {
         "name": "A201-BCP001-BIO0001-AIT0022.BIO-PH2-PHZ-CTR",
         "rawType": "object",
         "type": "string"
        }
       ],
       "ref": "de17a336-d08a-43ec-b293-679accd33ee4",
       "rows": [
        [
         "1",
         "6/17/2025 11:30:00 PM",
         "37.06",
         "7.87",
         "64.28",
         "6.85"
        ],
        [
         "2",
         "6/18/2025 12:00:00 AM",
         "36.82",
         "7.66",
         "58.43",
         "6.86"
        ],
        [
         "3",
         "6/18/2025 12:30:00 AM",
         "36.94",
         "7.37",
         "63.31",
         "6.88"
        ],
        [
         "4",
         "6/18/2025 1:00:00 AM",
         "37.10",
         "7.10",
         "59.67",
         "6.88"
        ],
        [
         "5",
         "6/18/2025 1:30:00 AM",
         "37.01",
         "7.33",
         "61.75",
         "6.88"
        ]
       ],
       "shape": {
        "columns": 5,
        "rows": 5
       }
      },
      "text/html": [
       "<div>\n",
       "<style scoped>\n",
       "    .dataframe tbody tr th:only-of-type {\n",
       "        vertical-align: middle;\n",
       "    }\n",
       "\n",
       "    .dataframe tbody tr th {\n",
       "        vertical-align: top;\n",
       "    }\n",
       "\n",
       "    .dataframe thead th {\n",
       "        text-align: right;\n",
       "    }\n",
       "</style>\n",
       "<table border=\"1\" class=\"dataframe\">\n",
       "  <thead>\n",
       "    <tr style=\"text-align: right;\">\n",
       "      <th></th>\n",
       "      <th>Time</th>\n",
       "      <th>A201-BCP001-BIO0001-TT00026.BIO-BIO-TEM-CTR</th>\n",
       "      <th>A201-BCP001-BIO0001-AIT0030.BIO-CA2-CAP-CTR</th>\n",
       "      <th>A201-BCP001-BIO0001-AIT0024.BIO-DOX-DOX-CTR</th>\n",
       "      <th>A201-BCP001-BIO0001-AIT0022.BIO-PH2-PHZ-CTR</th>\n",
       "    </tr>\n",
       "  </thead>\n",
       "  <tbody>\n",
       "    <tr>\n",
       "      <th>1</th>\n",
       "      <td>6/17/2025 11:30:00 PM</td>\n",
       "      <td>37.06</td>\n",
       "      <td>7.87</td>\n",
       "      <td>64.28</td>\n",
       "      <td>6.85</td>\n",
       "    </tr>\n",
       "    <tr>\n",
       "      <th>2</th>\n",
       "      <td>6/18/2025 12:00:00 AM</td>\n",
       "      <td>36.82</td>\n",
       "      <td>7.66</td>\n",
       "      <td>58.43</td>\n",
       "      <td>6.86</td>\n",
       "    </tr>\n",
       "    <tr>\n",
       "      <th>3</th>\n",
       "      <td>6/18/2025 12:30:00 AM</td>\n",
       "      <td>36.94</td>\n",
       "      <td>7.37</td>\n",
       "      <td>63.31</td>\n",
       "      <td>6.88</td>\n",
       "    </tr>\n",
       "    <tr>\n",
       "      <th>4</th>\n",
       "      <td>6/18/2025 1:00:00 AM</td>\n",
       "      <td>37.10</td>\n",
       "      <td>7.10</td>\n",
       "      <td>59.67</td>\n",
       "      <td>6.88</td>\n",
       "    </tr>\n",
       "    <tr>\n",
       "      <th>5</th>\n",
       "      <td>6/18/2025 1:30:00 AM</td>\n",
       "      <td>37.01</td>\n",
       "      <td>7.33</td>\n",
       "      <td>61.75</td>\n",
       "      <td>6.88</td>\n",
       "    </tr>\n",
       "  </tbody>\n",
       "</table>\n",
       "</div>"
      ],
      "text/plain": [
       "                    Time A201-BCP001-BIO0001-TT00026.BIO-BIO-TEM-CTR  \\\n",
       "1  6/17/2025 11:30:00 PM                                       37.06   \n",
       "2  6/18/2025 12:00:00 AM                                       36.82   \n",
       "3  6/18/2025 12:30:00 AM                                       36.94   \n",
       "4   6/18/2025 1:00:00 AM                                       37.10   \n",
       "5   6/18/2025 1:30:00 AM                                       37.01   \n",
       "\n",
       "  A201-BCP001-BIO0001-AIT0030.BIO-CA2-CAP-CTR  \\\n",
       "1                                        7.87   \n",
       "2                                        7.66   \n",
       "3                                        7.37   \n",
       "4                                        7.10   \n",
       "5                                        7.33   \n",
       "\n",
       "  A201-BCP001-BIO0001-AIT0024.BIO-DOX-DOX-CTR  \\\n",
       "1                                       64.28   \n",
       "2                                       58.43   \n",
       "3                                       63.31   \n",
       "4                                       59.67   \n",
       "5                                       61.75   \n",
       "\n",
       "  A201-BCP001-BIO0001-AIT0022.BIO-PH2-PHZ-CTR  \n",
       "1                                        6.85  \n",
       "2                                        6.86  \n",
       "3                                        6.88  \n",
       "4                                        6.88  \n",
       "5                                        6.88  "
      ]
     },
     "execution_count": 9,
     "metadata": {},
     "output_type": "execute_result"
    }
   ],
   "source": [
    "# Rename the first column to 'Time'\n",
    "df = df.rename(columns={df.columns[0]: 'Time'})\n",
    "df.head()\n"
   ]
  },
  {
   "cell_type": "code",
   "execution_count": 10,
   "id": "4a20264d",
   "metadata": {},
   "outputs": [
    {
     "data": {
      "application/vnd.microsoft.datawrangler.viewer.v0+json": {
       "columns": [
        {
         "name": "Time",
         "rawType": "datetime64[ns]",
         "type": "datetime"
        },
        {
         "name": "A201-BCP001-BIO0001-TT00026.BIO-BIO-TEM-CTR",
         "rawType": "object",
         "type": "string"
        },
        {
         "name": "A201-BCP001-BIO0001-AIT0030.BIO-CA2-CAP-CTR",
         "rawType": "object",
         "type": "string"
        },
        {
         "name": "A201-BCP001-BIO0001-AIT0024.BIO-DOX-DOX-CTR",
         "rawType": "object",
         "type": "string"
        },
        {
         "name": "A201-BCP001-BIO0001-AIT0022.BIO-PH2-PHZ-CTR",
         "rawType": "object",
         "type": "string"
        }
       ],
       "ref": "94937085-4740-4057-af1c-a6901fe96487",
       "rows": [
        [
         "2025-06-17 23:30:00",
         "37.06",
         "7.87",
         "64.28",
         "6.85"
        ],
        [
         "2025-06-18 00:00:00",
         "36.82",
         "7.66",
         "58.43",
         "6.86"
        ],
        [
         "2025-06-18 00:30:00",
         "36.94",
         "7.37",
         "63.31",
         "6.88"
        ],
        [
         "2025-06-18 01:00:00",
         "37.10",
         "7.10",
         "59.67",
         "6.88"
        ],
        [
         "2025-06-18 01:30:00",
         "37.01",
         "7.33",
         "61.75",
         "6.88"
        ]
       ],
       "shape": {
        "columns": 4,
        "rows": 5
       }
      },
      "text/html": [
       "<div>\n",
       "<style scoped>\n",
       "    .dataframe tbody tr th:only-of-type {\n",
       "        vertical-align: middle;\n",
       "    }\n",
       "\n",
       "    .dataframe tbody tr th {\n",
       "        vertical-align: top;\n",
       "    }\n",
       "\n",
       "    .dataframe thead th {\n",
       "        text-align: right;\n",
       "    }\n",
       "</style>\n",
       "<table border=\"1\" class=\"dataframe\">\n",
       "  <thead>\n",
       "    <tr style=\"text-align: right;\">\n",
       "      <th></th>\n",
       "      <th>A201-BCP001-BIO0001-TT00026.BIO-BIO-TEM-CTR</th>\n",
       "      <th>A201-BCP001-BIO0001-AIT0030.BIO-CA2-CAP-CTR</th>\n",
       "      <th>A201-BCP001-BIO0001-AIT0024.BIO-DOX-DOX-CTR</th>\n",
       "      <th>A201-BCP001-BIO0001-AIT0022.BIO-PH2-PHZ-CTR</th>\n",
       "    </tr>\n",
       "    <tr>\n",
       "      <th>Time</th>\n",
       "      <th></th>\n",
       "      <th></th>\n",
       "      <th></th>\n",
       "      <th></th>\n",
       "    </tr>\n",
       "  </thead>\n",
       "  <tbody>\n",
       "    <tr>\n",
       "      <th>2025-06-17 23:30:00</th>\n",
       "      <td>37.06</td>\n",
       "      <td>7.87</td>\n",
       "      <td>64.28</td>\n",
       "      <td>6.85</td>\n",
       "    </tr>\n",
       "    <tr>\n",
       "      <th>2025-06-18 00:00:00</th>\n",
       "      <td>36.82</td>\n",
       "      <td>7.66</td>\n",
       "      <td>58.43</td>\n",
       "      <td>6.86</td>\n",
       "    </tr>\n",
       "    <tr>\n",
       "      <th>2025-06-18 00:30:00</th>\n",
       "      <td>36.94</td>\n",
       "      <td>7.37</td>\n",
       "      <td>63.31</td>\n",
       "      <td>6.88</td>\n",
       "    </tr>\n",
       "    <tr>\n",
       "      <th>2025-06-18 01:00:00</th>\n",
       "      <td>37.10</td>\n",
       "      <td>7.10</td>\n",
       "      <td>59.67</td>\n",
       "      <td>6.88</td>\n",
       "    </tr>\n",
       "    <tr>\n",
       "      <th>2025-06-18 01:30:00</th>\n",
       "      <td>37.01</td>\n",
       "      <td>7.33</td>\n",
       "      <td>61.75</td>\n",
       "      <td>6.88</td>\n",
       "    </tr>\n",
       "  </tbody>\n",
       "</table>\n",
       "</div>"
      ],
      "text/plain": [
       "                    A201-BCP001-BIO0001-TT00026.BIO-BIO-TEM-CTR  \\\n",
       "Time                                                              \n",
       "2025-06-17 23:30:00                                       37.06   \n",
       "2025-06-18 00:00:00                                       36.82   \n",
       "2025-06-18 00:30:00                                       36.94   \n",
       "2025-06-18 01:00:00                                       37.10   \n",
       "2025-06-18 01:30:00                                       37.01   \n",
       "\n",
       "                    A201-BCP001-BIO0001-AIT0030.BIO-CA2-CAP-CTR  \\\n",
       "Time                                                              \n",
       "2025-06-17 23:30:00                                        7.87   \n",
       "2025-06-18 00:00:00                                        7.66   \n",
       "2025-06-18 00:30:00                                        7.37   \n",
       "2025-06-18 01:00:00                                        7.10   \n",
       "2025-06-18 01:30:00                                        7.33   \n",
       "\n",
       "                    A201-BCP001-BIO0001-AIT0024.BIO-DOX-DOX-CTR  \\\n",
       "Time                                                              \n",
       "2025-06-17 23:30:00                                       64.28   \n",
       "2025-06-18 00:00:00                                       58.43   \n",
       "2025-06-18 00:30:00                                       63.31   \n",
       "2025-06-18 01:00:00                                       59.67   \n",
       "2025-06-18 01:30:00                                       61.75   \n",
       "\n",
       "                    A201-BCP001-BIO0001-AIT0022.BIO-PH2-PHZ-CTR  \n",
       "Time                                                             \n",
       "2025-06-17 23:30:00                                        6.85  \n",
       "2025-06-18 00:00:00                                        6.86  \n",
       "2025-06-18 00:30:00                                        6.88  \n",
       "2025-06-18 01:00:00                                        6.88  \n",
       "2025-06-18 01:30:00                                        6.88  "
      ]
     },
     "execution_count": 10,
     "metadata": {},
     "output_type": "execute_result"
    }
   ],
   "source": [
    "# Parse the 'Time' column\n",
    "df['Time'] = pd.to_datetime(df['Time'], format='%m/%d/%Y %I:%M:%S %p', errors='coerce')\n",
    "df.set_index('Time', inplace=True)\n",
    "df.sort_index(inplace=True)\n",
    "df.head()"
   ]
  },
  {
   "cell_type": "code",
   "execution_count": 11,
   "id": "16092a20",
   "metadata": {},
   "outputs": [
    {
     "name": "stdout",
     "output_type": "stream",
     "text": [
      "<class 'pandas.core.frame.DataFrame'>\n",
      "DatetimeIndex: 626 entries, 2025-06-17 23:30:00 to 2025-07-01 00:00:00\n",
      "Data columns (total 4 columns):\n",
      " #   Column                                       Non-Null Count  Dtype \n",
      "---  ------                                       --------------  ----- \n",
      " 0   A201-BCP001-BIO0001-TT00026.BIO-BIO-TEM-CTR  626 non-null    object\n",
      " 1   A201-BCP001-BIO0001-AIT0030.BIO-CA2-CAP-CTR  626 non-null    object\n",
      " 2   A201-BCP001-BIO0001-AIT0024.BIO-DOX-DOX-CTR  626 non-null    object\n",
      " 3   A201-BCP001-BIO0001-AIT0022.BIO-PH2-PHZ-CTR  626 non-null    object\n",
      "dtypes: object(4)\n",
      "memory usage: 24.5+ KB\n"
     ]
    },
    {
     "data": {
      "application/vnd.microsoft.datawrangler.viewer.v0+json": {
       "columns": [
        {
         "name": "Time",
         "rawType": "datetime64[ns]",
         "type": "datetime"
        },
        {
         "name": "A201-BCP001-BIO0001-TT00026.BIO-BIO-TEM-CTR",
         "rawType": "object",
         "type": "string"
        },
        {
         "name": "A201-BCP001-BIO0001-AIT0030.BIO-CA2-CAP-CTR",
         "rawType": "object",
         "type": "string"
        },
        {
         "name": "A201-BCP001-BIO0001-AIT0024.BIO-DOX-DOX-CTR",
         "rawType": "object",
         "type": "string"
        },
        {
         "name": "A201-BCP001-BIO0001-AIT0022.BIO-PH2-PHZ-CTR",
         "rawType": "object",
         "type": "string"
        }
       ],
       "ref": "25515d91-8bc2-482e-9ca1-a7a5e76664b8",
       "rows": [
        [
         "2025-06-17 23:30:00",
         "37.06",
         "7.87",
         "64.28",
         "6.85"
        ],
        [
         "2025-06-18 00:00:00",
         "36.82",
         "7.66",
         "58.43",
         "6.86"
        ],
        [
         "2025-06-18 00:30:00",
         "36.94",
         "7.37",
         "63.31",
         "6.88"
        ],
        [
         "2025-06-18 01:00:00",
         "37.10",
         "7.10",
         "59.67",
         "6.88"
        ],
        [
         "2025-06-18 01:30:00",
         "37.01",
         "7.33",
         "61.75",
         "6.88"
        ],
        [
         "2025-06-18 02:00:00",
         "36.98",
         "7.35",
         "59.99",
         "6.88"
        ],
        [
         "2025-06-18 02:30:00",
         "37.01",
         "7.64",
         "62.41",
         "6.88"
        ],
        [
         "2025-06-18 03:00:00",
         "37.00",
         "7.35",
         "61.04",
         "6.88"
        ],
        [
         "2025-06-18 03:30:00",
         "37.01",
         "7.55",
         "61.80",
         "6.88"
        ],
        [
         "2025-06-18 04:00:00",
         "37.04",
         "7.82",
         "59.18",
         "6.88"
        ]
       ],
       "shape": {
        "columns": 4,
        "rows": 10
       }
      },
      "text/html": [
       "<div>\n",
       "<style scoped>\n",
       "    .dataframe tbody tr th:only-of-type {\n",
       "        vertical-align: middle;\n",
       "    }\n",
       "\n",
       "    .dataframe tbody tr th {\n",
       "        vertical-align: top;\n",
       "    }\n",
       "\n",
       "    .dataframe thead th {\n",
       "        text-align: right;\n",
       "    }\n",
       "</style>\n",
       "<table border=\"1\" class=\"dataframe\">\n",
       "  <thead>\n",
       "    <tr style=\"text-align: right;\">\n",
       "      <th></th>\n",
       "      <th>A201-BCP001-BIO0001-TT00026.BIO-BIO-TEM-CTR</th>\n",
       "      <th>A201-BCP001-BIO0001-AIT0030.BIO-CA2-CAP-CTR</th>\n",
       "      <th>A201-BCP001-BIO0001-AIT0024.BIO-DOX-DOX-CTR</th>\n",
       "      <th>A201-BCP001-BIO0001-AIT0022.BIO-PH2-PHZ-CTR</th>\n",
       "    </tr>\n",
       "    <tr>\n",
       "      <th>Time</th>\n",
       "      <th></th>\n",
       "      <th></th>\n",
       "      <th></th>\n",
       "      <th></th>\n",
       "    </tr>\n",
       "  </thead>\n",
       "  <tbody>\n",
       "    <tr>\n",
       "      <th>2025-06-17 23:30:00</th>\n",
       "      <td>37.06</td>\n",
       "      <td>7.87</td>\n",
       "      <td>64.28</td>\n",
       "      <td>6.85</td>\n",
       "    </tr>\n",
       "    <tr>\n",
       "      <th>2025-06-18 00:00:00</th>\n",
       "      <td>36.82</td>\n",
       "      <td>7.66</td>\n",
       "      <td>58.43</td>\n",
       "      <td>6.86</td>\n",
       "    </tr>\n",
       "    <tr>\n",
       "      <th>2025-06-18 00:30:00</th>\n",
       "      <td>36.94</td>\n",
       "      <td>7.37</td>\n",
       "      <td>63.31</td>\n",
       "      <td>6.88</td>\n",
       "    </tr>\n",
       "    <tr>\n",
       "      <th>2025-06-18 01:00:00</th>\n",
       "      <td>37.10</td>\n",
       "      <td>7.10</td>\n",
       "      <td>59.67</td>\n",
       "      <td>6.88</td>\n",
       "    </tr>\n",
       "    <tr>\n",
       "      <th>2025-06-18 01:30:00</th>\n",
       "      <td>37.01</td>\n",
       "      <td>7.33</td>\n",
       "      <td>61.75</td>\n",
       "      <td>6.88</td>\n",
       "    </tr>\n",
       "    <tr>\n",
       "      <th>2025-06-18 02:00:00</th>\n",
       "      <td>36.98</td>\n",
       "      <td>7.35</td>\n",
       "      <td>59.99</td>\n",
       "      <td>6.88</td>\n",
       "    </tr>\n",
       "    <tr>\n",
       "      <th>2025-06-18 02:30:00</th>\n",
       "      <td>37.01</td>\n",
       "      <td>7.64</td>\n",
       "      <td>62.41</td>\n",
       "      <td>6.88</td>\n",
       "    </tr>\n",
       "    <tr>\n",
       "      <th>2025-06-18 03:00:00</th>\n",
       "      <td>37.00</td>\n",
       "      <td>7.35</td>\n",
       "      <td>61.04</td>\n",
       "      <td>6.88</td>\n",
       "    </tr>\n",
       "    <tr>\n",
       "      <th>2025-06-18 03:30:00</th>\n",
       "      <td>37.01</td>\n",
       "      <td>7.55</td>\n",
       "      <td>61.80</td>\n",
       "      <td>6.88</td>\n",
       "    </tr>\n",
       "    <tr>\n",
       "      <th>2025-06-18 04:00:00</th>\n",
       "      <td>37.04</td>\n",
       "      <td>7.82</td>\n",
       "      <td>59.18</td>\n",
       "      <td>6.88</td>\n",
       "    </tr>\n",
       "  </tbody>\n",
       "</table>\n",
       "</div>"
      ],
      "text/plain": [
       "                    A201-BCP001-BIO0001-TT00026.BIO-BIO-TEM-CTR  \\\n",
       "Time                                                              \n",
       "2025-06-17 23:30:00                                       37.06   \n",
       "2025-06-18 00:00:00                                       36.82   \n",
       "2025-06-18 00:30:00                                       36.94   \n",
       "2025-06-18 01:00:00                                       37.10   \n",
       "2025-06-18 01:30:00                                       37.01   \n",
       "2025-06-18 02:00:00                                       36.98   \n",
       "2025-06-18 02:30:00                                       37.01   \n",
       "2025-06-18 03:00:00                                       37.00   \n",
       "2025-06-18 03:30:00                                       37.01   \n",
       "2025-06-18 04:00:00                                       37.04   \n",
       "\n",
       "                    A201-BCP001-BIO0001-AIT0030.BIO-CA2-CAP-CTR  \\\n",
       "Time                                                              \n",
       "2025-06-17 23:30:00                                        7.87   \n",
       "2025-06-18 00:00:00                                        7.66   \n",
       "2025-06-18 00:30:00                                        7.37   \n",
       "2025-06-18 01:00:00                                        7.10   \n",
       "2025-06-18 01:30:00                                        7.33   \n",
       "2025-06-18 02:00:00                                        7.35   \n",
       "2025-06-18 02:30:00                                        7.64   \n",
       "2025-06-18 03:00:00                                        7.35   \n",
       "2025-06-18 03:30:00                                        7.55   \n",
       "2025-06-18 04:00:00                                        7.82   \n",
       "\n",
       "                    A201-BCP001-BIO0001-AIT0024.BIO-DOX-DOX-CTR  \\\n",
       "Time                                                              \n",
       "2025-06-17 23:30:00                                       64.28   \n",
       "2025-06-18 00:00:00                                       58.43   \n",
       "2025-06-18 00:30:00                                       63.31   \n",
       "2025-06-18 01:00:00                                       59.67   \n",
       "2025-06-18 01:30:00                                       61.75   \n",
       "2025-06-18 02:00:00                                       59.99   \n",
       "2025-06-18 02:30:00                                       62.41   \n",
       "2025-06-18 03:00:00                                       61.04   \n",
       "2025-06-18 03:30:00                                       61.80   \n",
       "2025-06-18 04:00:00                                       59.18   \n",
       "\n",
       "                    A201-BCP001-BIO0001-AIT0022.BIO-PH2-PHZ-CTR  \n",
       "Time                                                             \n",
       "2025-06-17 23:30:00                                        6.85  \n",
       "2025-06-18 00:00:00                                        6.86  \n",
       "2025-06-18 00:30:00                                        6.88  \n",
       "2025-06-18 01:00:00                                        6.88  \n",
       "2025-06-18 01:30:00                                        6.88  \n",
       "2025-06-18 02:00:00                                        6.88  \n",
       "2025-06-18 02:30:00                                        6.88  \n",
       "2025-06-18 03:00:00                                        6.88  \n",
       "2025-06-18 03:30:00                                        6.88  \n",
       "2025-06-18 04:00:00                                        6.88  "
      ]
     },
     "execution_count": 11,
     "metadata": {},
     "output_type": "execute_result"
    }
   ],
   "source": [
    "# final check \n",
    "df.info()\n",
    "df.head(10)"
   ]
  },
  {
   "cell_type": "code",
   "execution_count": 12,
   "id": "8eebe41e",
   "metadata": {},
   "outputs": [],
   "source": [
    "# LOAD\n",
    "# SAVING THE FILE\n",
    "\n",
    "\n",
    "original_filename = os.path.basename(file_path)\n",
    "processed_filename = f\"Processed_{original_filename}\"\n",
    "processed_filepath = os.path.join(os.path.dirname(file_path), processed_filename)\n",
    "\n",
    "df.to_csv(processed_filepath, index=True)"
   ]
  }
 ],
 "metadata": {
  "kernelspec": {
   "display_name": "Python 3",
   "language": "python",
   "name": "python3"
  },
  "language_info": {
   "codemirror_mode": {
    "name": "ipython",
    "version": 3
   },
   "file_extension": ".py",
   "mimetype": "text/x-python",
   "name": "python",
   "nbconvert_exporter": "python",
   "pygments_lexer": "ipython3",
   "version": "3.11.9"
  }
 },
 "nbformat": 4,
 "nbformat_minor": 5
}
